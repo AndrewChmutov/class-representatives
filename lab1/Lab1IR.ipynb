{
 "cells": [
  {
   "cell_type": "markdown",
   "id": "0",
   "metadata": {
    "id": "e1f3d86e"
   },
   "source": [
    "In this class, we will talk about model explainability but more in the context of data explainability or root cause analysis. In many cases building a very good machine learning model is not an ultimate goal. What is really wanted is the data understanding. A factory wants to know why the product is plagued with a defect, not to predict afterward if there is a defect or not. A football team wants to know which position is the best for scoring a goal, not what's the probability of scoring from a given position. And even when they want a prediction they would love to see the justification to trust the model. Often a nice plot is worth more than sophisticated machine-learning approaches."
   ]
  },
  {
   "cell_type": "code",
   "execution_count": null,
   "id": "1",
   "metadata": {
    "id": "0cf435ee"
   },
   "outputs": [],
   "source": [
    "import dalex as dx\n",
    "import matplotlib.pyplot as plt\n",
    "import numpy as np\n",
    "import pandas as pd\n",
    "from sklearn.datasets import load_wine\n",
    "from sklearn.ensemble import RandomForestRegressor"
   ]
  },
  {
   "cell_type": "code",
   "execution_count": null,
   "id": "2",
   "metadata": {
    "id": "ac5edb05"
   },
   "outputs": [],
   "source": [
    "data = load_wine()"
   ]
  },
  {
   "cell_type": "code",
   "execution_count": null,
   "id": "3",
   "metadata": {
    "id": "18835b4c"
   },
   "outputs": [],
   "source": [
    "df = pd.DataFrame(data[\"data\"], columns=data[\"feature_names\"])\n",
    "y = data[\"target\"]\n",
    "df[\"target\"] = y"
   ]
  },
  {
   "cell_type": "markdown",
   "id": "4",
   "metadata": {
    "id": "521043b8"
   },
   "source": [
    "You should already be familiar with many data visualization techniques so we will not train it now. I just want to share a less popular type of data analysis. Usually plotting the target against any feature is not helpful but after some modification, we might be able to see some patterns."
   ]
  },
  {
   "cell_type": "code",
   "execution_count": null,
   "id": "5",
   "metadata": {
    "id": "eae45f14"
   },
   "outputs": [],
   "source": [
    "plt.plot(df.flavanoids, y, \"bo\")"
   ]
  },
  {
   "cell_type": "markdown",
   "id": "6",
   "metadata": {
    "id": "21d4d36d"
   },
   "source": [
    "For each value, we can plot the average target for data:\n",
    " - below that value\n",
    " - above that value\n",
    " - around that value\n",
    "\n",
    "Please note that for the line \"above that value\" the more left we go the higher fraction of data is covered. The same with the \"below that value\""
   ]
  },
  {
   "cell_type": "code",
   "execution_count": null,
   "id": "7",
   "metadata": {
    "id": "2787dead9"
   },
   "outputs": [],
   "source": [
    "for col in df.columns.drop(\"target\"):\n",
    "    tmp = df.sort_values(col)\n",
    "    plt.title(col)\n",
    "    plt.plot(\n",
    "        tmp[col],\n",
    "        tmp[col].apply(lambda x: tmp[tmp[col] <= x].target.mean()),\n",
    "        label=\"<=\",\n",
    "    )\n",
    "    plt.plot(\n",
    "        tmp[col],\n",
    "        tmp[col].apply(lambda x: tmp[tmp[col] >= x].target.mean()),\n",
    "        label=\">=\",\n",
    "    )\n",
    "    plt.plot(\n",
    "        tmp[col],\n",
    "        np.convolve(np.ones(20) / 20, tmp.target, mode=\"same\"),\n",
    "        label=\"~=~\",\n",
    "    )\n",
    "    plt.legend()\n",
    "    plt.grid()\n",
    "    plt.show()"
   ]
  },
  {
   "cell_type": "markdown",
   "id": "8",
   "metadata": {
    "id": "4bffc8a5"
   },
   "source": [
    "Ok, let's just train a model. We are not interested in top performance right now so we will skip hyperparameter optimization. Also, we want to find the pattern in the data we have, so we don't split the data into validation and test set."
   ]
  },
  {
   "cell_type": "code",
   "execution_count": null,
   "id": "9",
   "metadata": {
    "id": "0544ef6c"
   },
   "outputs": [],
   "source": [
    "model = RandomForestRegressor()\n",
    "x = df.drop(\"target\", axis=1)\n",
    "y = df.target\n",
    "model.fit(x, y)"
   ]
  },
  {
   "cell_type": "code",
   "execution_count": null,
   "id": "10",
   "metadata": {
    "id": "db2868fd"
   },
   "outputs": [],
   "source": [
    "plt.plot(df.target, model.predict(x), \"bo\")"
   ]
  },
  {
   "cell_type": "markdown",
   "id": "11",
   "metadata": {
    "id": "564d4ab7"
   },
   "source": [
    "Dalex is a python package for model explainability. We will use some of its functions to understand the data and the model better. First, we need to create an explainer model. Since we are not interested in checking the model performance but the relation between the data and the target we will use the whole dataset here. In the first case, we might want to use the testing set."
   ]
  },
  {
   "cell_type": "code",
   "execution_count": null,
   "id": "12",
   "metadata": {
    "id": "4522325a"
   },
   "outputs": [],
   "source": [
    "exp = dx.Explainer(model, x, y)"
   ]
  },
  {
   "cell_type": "code",
   "execution_count": null,
   "id": "13",
   "metadata": {
    "id": "f0296fb6"
   },
   "outputs": [],
   "source": [
    "fi = exp.model_parts()"
   ]
  },
  {
   "cell_type": "markdown",
   "id": "14",
   "metadata": {
    "id": "cd7d248a"
   },
   "source": [
    "The first step will be feature importance. It's a basic analysis where we calculate the global impact of a feature. The idea in dalex default approach is to measure how much the model performance is worsening after removing this feature. Of course, it would require retraining the model, the optimal set of hyperparameters might be different and it might affect the results. To avoid these problems we do not retrain the model. Instead, we simulate its removal by assigning random values to it. To make it more realistic the values are not completely random, we just shuffle this column in a dataframe, do the prediction, check performance and repeat these steps multiple times."
   ]
  },
  {
   "cell_type": "code",
   "execution_count": null,
   "id": "15",
   "metadata": {
    "id": "09f500ae"
   },
   "outputs": [],
   "source": [
    "fi.plot()"
   ]
  },
  {
   "cell_type": "markdown",
   "id": "16",
   "metadata": {
    "id": "b7f9535a"
   },
   "source": [
    "Another useful tool is a partial dependency plot. For a given feature we observe what's the average output of our model for different values of this feature. For each considered value we set this value for each row in our dataframe and calculate an average prediction."
   ]
  },
  {
   "cell_type": "code",
   "execution_count": null,
   "id": "17",
   "metadata": {
    "id": "3a20223d"
   },
   "outputs": [],
   "source": [
    "exp.model_profile().plot()"
   ]
  },
  {
   "cell_type": "markdown",
   "id": "18",
   "metadata": {
    "id": "94a61afa"
   },
   "source": [
    "\n",
    "We can also create similar plots for single rows. Here for each column, we present what would be the output from the model assuming we keep all remaining values and change the value of this one selected feature."
   ]
  },
  {
   "cell_type": "code",
   "execution_count": null,
   "id": "19",
   "metadata": {
    "id": "b43ed2d2"
   },
   "outputs": [],
   "source": [
    "exp.predict_profile(x.iloc[[15, 80]]).plot()"
   ]
  },
  {
   "cell_type": "markdown",
   "id": "20",
   "metadata": {
    "id": "1f7ef147"
   },
   "source": [
    "SHAP values are equivalents of Shapley values for the predictive models. It estimates the effect of a particular value of a particular feature for a prediction of a considered row. It's also done by replacing this value with proper sampling and replacing this value and measuring the effect on the prediction."
   ]
  },
  {
   "cell_type": "code",
   "execution_count": null,
   "id": "21",
   "metadata": {
    "id": "0e417ef7"
   },
   "outputs": [],
   "source": [
    "exp.predict_parts(x.iloc[15], type=\"shap\").plot()"
   ]
  },
  {
   "cell_type": "code",
   "execution_count": null,
   "id": "22",
   "metadata": {
    "id": "1c8198c3"
   },
   "outputs": [],
   "source": [
    "exp.predict_parts(x.iloc[15], type=\"shap\").plot()"
   ]
  },
  {
   "cell_type": "markdown",
   "id": "23",
   "metadata": {
    "id": "81dc4fb9"
   },
   "source": [
    "The result is based on sampling so the result for the same row can vary"
   ]
  },
  {
   "cell_type": "code",
   "execution_count": null,
   "id": "24",
   "metadata": {
    "id": "a9dd9aef"
   },
   "outputs": [],
   "source": [
    "exp.predict_parts(x.iloc[88], type=\"shap\").plot()"
   ]
  },
  {
   "cell_type": "code",
   "execution_count": null,
   "id": "25",
   "metadata": {
    "id": "data295a9"
   },
   "outputs": [],
   "source": [
    "exp.predict_parts(x.iloc[88], type=\"shap\").result"
   ]
  },
  {
   "cell_type": "markdown",
   "id": "26",
   "metadata": {
    "id": "4d3af9bd"
   },
   "source": [
    "**Task** For each class find the most representative examples and plot breakdown for them.\n",
    "\n",
    "Imagine we have a model classifying dogs and cats. Then a good example would be to show e.g. 3 breeds of dogs and the same with cats. Showing 5 golden retrievers although cute is not the best approach.\n",
    "\n",
    "There isn't a single best way how to approach this task. There are many good solutions. Think about what you want to achieve and then how to do it"
   ]
  },
  {
   "cell_type": "code",
   "execution_count": null,
   "id": "27",
   "metadata": {
    "id": "015c6cef"
   },
   "outputs": [],
   "source": [
    "from typing import Any, Callable, Generator\n",
    "\n",
    "from numpy.typing import ArrayLike\n",
    "\n",
    "\n",
    "def add_column(df: pd.DataFrame, column: ArrayLike, name: str) -> pd.DataFrame:\n",
    "    \"\"\"Add column to the dataframe. Best works with `pd.DataFrame.pipe`\n",
    "    method.\n",
    "\n",
    "    Args:\n",
    "        df: Dataframe to extend\n",
    "        column: Column to add\n",
    "        name: Name of the column\n",
    "\n",
    "    Returns:\n",
    "        Dataframe with added column\n",
    "    \"\"\"  # noqa: D205\n",
    "    return pd.concat(\n",
    "        [df.reset_index(), pd.DataFrame({name: column})], axis=1\n",
    "    ).set_index(\"index\")\n",
    "\n",
    "\n",
    "def annotate_representatives(\n",
    "    df: pd.DataFrame,\n",
    "    cluster_strategy: Any,\n",
    "    distance: Callable[[np.ndarray, np.ndarray], np.matrix],\n",
    ") -> pd.DataFrame:\n",
    "    \"\"\"Divide into clusters and for each pick representative closest to\n",
    "    the centroid.\n",
    "\n",
    "    Args:\n",
    "        df: Data for picking representatives from.\n",
    "        cluster_strategy: Clustering algorithm.\n",
    "        distance: Distance function.\n",
    "\n",
    "    Returns:\n",
    "        Dataframe with additional column: booleans signifying whether the\n",
    "        record is representative.\n",
    "    \"\"\"  # noqa: D205\n",
    "    # Cluster\n",
    "    cluster_strategy = cluster_strategy.fit(df)\n",
    "    centroids = cluster_strategy.cluster_centers_\n",
    "    labels = cluster_strategy.labels_\n",
    "\n",
    "    # Distance from each record to each centroid, stored in\n",
    "    # (N_records, N_centroids) shape\n",
    "    distances_mat = distance(df.to_numpy(), centroids)\n",
    "\n",
    "    result = df.pipe(add_column, column=labels, name=\"cluster\")\n",
    "    result[\"repr\"] = False\n",
    "    ids = []\n",
    "\n",
    "    # Can't \"groupby\" because the same records might occur => exclude them\n",
    "    # after each iter\n",
    "\n",
    "    # Iterate by columns (distances corresponding to a single centroid)\n",
    "    for distances in distances_mat.T:\n",
    "        ids.extend(\n",
    "            result.pipe(add_column, column=distances, name=\"distance\")\n",
    "            .drop(ids)\n",
    "            .sort_values(\"distance\")\n",
    "            .head(1)\n",
    "            .index.tolist()\n",
    "        )\n",
    "\n",
    "    result.loc[pd.Index(ids), \"repr\"] = True\n",
    "    return result.sort_values(\"index\")"
   ]
  },
  {
   "cell_type": "code",
   "execution_count": null,
   "id": "28",
   "metadata": {
    "id": "85fa1740"
   },
   "outputs": [],
   "source": [
    "from sklearn.cluster import KMeans\n",
    "from sklearn.metrics import euclidean_distances\n",
    "\n",
    "# Configurations\n",
    "n_representatives = 5\n",
    "cluster_strategy = KMeans(n_clusters=n_representatives)\n",
    "distance_fn = euclidean_distances\n",
    "\n",
    "# Annotate representatives for each class\n",
    "result = pd.concat([\n",
    "    annotate_representatives(cls_data, cluster_strategy, euclidean_distances)\n",
    "    for cls, cls_data in df.groupby(\"target\")\n",
    "])"
   ]
  },
  {
   "cell_type": "code",
   "execution_count": null,
   "id": "29",
   "metadata": {},
   "outputs": [],
   "source": [
    "import seaborn as sns\n",
    "from sklearn.decomposition import PCA\n",
    "\n",
    "sns.set_theme()\n",
    "\n",
    "# Perform dim reduction and prepare data\n",
    "plot_data = PCA().fit_transform(\n",
    "    result.drop([\"target\", \"cluster\", \"repr\"], axis=1)\n",
    ")\n",
    "plot_data = pd.DataFrame(plot_data)\n",
    "plot_data[\"target\"] = result[\"target\"]\n",
    "plot_data[\"cluster\"] = result[\"cluster\"]\n",
    "plot_data[\"repr\"] = result[\"repr\"]\n",
    "\n",
    "# Plot for all classes\n",
    "plt.tick_params(labelbottom=False, labelleft=False)\n",
    "plt.title(\"All classes\")\n",
    "sns.scatterplot(data=plot_data, x=0, y=1, hue=\"target\", palette=\"deep\")\n",
    "plt.show()\n",
    "\n",
    "# Plot for each class\n",
    "clss = result[\"target\"].unique()\n",
    "palette = sns.color_palette(\"deep\")\n",
    "for cls, color in zip(clss, palette):\n",
    "    # Plotting params\n",
    "    plt.title(f\"Class {cls}\")\n",
    "    plt.tick_params(labelbottom=False, labelleft=False)\n",
    "\n",
    "    # Plot points\n",
    "    sns.scatterplot(data=plot_data, x=0, y=1, color=\"gray\")\n",
    "    sns.scatterplot(\n",
    "        data=plot_data[plot_data[\"target\"] == cls],\n",
    "        x=0,\n",
    "        y=1,\n",
    "        color=color + (0.5,),\n",
    "    )\n",
    "    sns.scatterplot(\n",
    "        data=plot_data[(plot_data[\"target\"] == cls) & plot_data[\"repr\"]],\n",
    "        x=0,\n",
    "        y=1,\n",
    "        color=\"red\",\n",
    "    )\n",
    "\n",
    "    plt.show()"
   ]
  },
  {
   "cell_type": "markdown",
   "id": "30",
   "metadata": {
    "id": "d9736904"
   },
   "source": [
    "There are other approaches that can be used for model explainability.\n",
    " - LIME - approximating model locally by a linear model\n",
    " - Anchor - approximating model locally by a rule-based model\n",
    " - Prototype - justifying a new prediction by showing a similar example from the data (a prototype)\n",
    " - Counterfactual Explanation - showing a similar example from the dataset with a different prediction to show what must be changed to change the prediction."
   ]
  },
  {
   "cell_type": "markdown",
   "id": "31",
   "metadata": {
    "id": "5d7494d7"
   },
   "source": [
    "# Task\n",
    "\n",
    "- take a dataset you want\n",
    "- perform an exploratory data analysis (data visualization)\n",
    "- create a sklearn pipeline for data preprocessing\n",
    "- add new features (one hot encoding for example)\n",
    "- add predictive model as the last step of the pipeline\n",
    "- prepare a report with model explainability\n",
    "\n",
    "Send it to gmiebs@cs.put.poznan.pl within 144 hours after the class is finished. Start the subject of the email with [IR]\n",
    "\n",
    "Assume your report will be read by a domain expert from the area of the data, in our case a wine expert, without any computer science / data science skills. It means the person will not get much from raw plots and diagrams. Everything has to be explained to be understood."
   ]
  },
  {
   "cell_type": "code",
   "execution_count": null,
   "id": "32",
   "metadata": {
    "id": "fdabac1d"
   },
   "outputs": [],
   "source": [
    "df = pd.read_csv(\"train.csv\")"
   ]
  },
  {
   "cell_type": "code",
   "execution_count": null,
   "id": "33",
   "metadata": {},
   "outputs": [],
   "source": [
    "df.info()"
   ]
  },
  {
   "cell_type": "code",
   "execution_count": null,
   "id": "34",
   "metadata": {},
   "outputs": [],
   "source": [
    "def all_vs_positive(df: pd.DataFrame) -> pd.DataFrame:\n",
    "    loan_status_both = df.reset_index()\n",
    "    loan_status_positive = df[df[\"loan_status\"] == 1].reset_index()\n",
    "\n",
    "    loan_status_both[\"loan_status\"] = \"all\"\n",
    "    loan_status_positive[\"loan_status\"] = \"positive\"\n",
    "\n",
    "    return pd.concat([loan_status_both, loan_status_positive])\n",
    "\n",
    "\n",
    "def subplots(\n",
    "    df_columns: int, n_cols: int, title: str\n",
    ") -> tuple[plt.Figure, Generator[plt.Axes, str, None]]:\n",
    "    n_rows = (df_columns + n_cols - 1) // n_cols\n",
    "    fig, axes = plt.subplots(n_rows, n_cols, figsize=(4 * n_cols, 4 * n_rows))\n",
    "    fig.suptitle(title)\n",
    "\n",
    "    def axes_gen() -> Generator[plt.Axes, str, None]:\n",
    "        collapse_flag = False\n",
    "        for ax in axes.ravel():\n",
    "            if not collapse_flag:\n",
    "                collapse_flag = (yield ax) == \"collapse\"\n",
    "            else:\n",
    "                ax.axis(\"off\")\n",
    "        yield\n",
    "\n",
    "    return fig, axes_gen()"
   ]
  },
  {
   "cell_type": "code",
   "execution_count": null,
   "id": "35",
   "metadata": {},
   "outputs": [],
   "source": [
    "kde_data = (\n",
    "    (temp := all_vs_positive(df))\n",
    "    .select_dtypes(include=\"number\")\n",
    "    .assign(loan_status=temp[\"loan_status\"])\n",
    "    .drop([\"index\", \"id\"], axis=1)\n",
    ")\n",
    "\n",
    "plotting_columns = list(filter(lambda x: x != \"loan_status\", kde_data.columns))\n",
    "_, axes = subplots(\n",
    "    df_columns=len(plotting_columns), n_cols=3, title=\"Numerical features\"\n",
    ")\n",
    "for col, ax in zip(plotting_columns, axes):\n",
    "    ax.tick_params(labelleft=False)\n",
    "    sns.kdeplot(\n",
    "        data=kde_data, x=col, hue=\"loan_status\", ax=ax, fill=True, bw_adjust=2\n",
    "    )\n",
    "axes.send(\"collapse\")\n",
    "plt.tight_layout()\n",
    "plt.show()"
   ]
  },
  {
   "cell_type": "code",
   "execution_count": null,
   "id": "36",
   "metadata": {},
   "outputs": [],
   "source": [
    "hist_data = (\n",
    "    (temp := all_vs_positive(df))\n",
    "    .select_dtypes(include=\"object\")\n",
    "    .assign(loan_status=temp[\"loan_status\"])\n",
    "    .assign(loan_intent=temp[\"loan_intent\"].str[:3] + \".\")\n",
    ")\n",
    "\n",
    "plotting_columns = list(\n",
    "    filter(lambda x: x != \"loan_status\", hist_data.columns)\n",
    ")\n",
    "fig, axes = subplots(\n",
    "    df_columns=len(plotting_columns), n_cols=2, title=\"Categorical features\"\n",
    ")\n",
    "for col, ax in zip(plotting_columns, axes):\n",
    "    total_value_counts = hist_data[hist_data[\"loan_status\"] == \"all\"][\n",
    "        col\n",
    "    ].value_counts()\n",
    "    positive_value_counts = hist_data[hist_data[\"loan_status\"] == \"positive\"][\n",
    "        col\n",
    "    ].value_counts()\n",
    "\n",
    "    positive_value_counts = (\n",
    "        (positive_value_counts / total_value_counts * 100)\n",
    "        .astype(int)\n",
    "        .reset_index()\n",
    "    )\n",
    "    total_value_counts = total_value_counts.reset_index().assign(count=100)\n",
    "\n",
    "    if col != \"loan_grade\":\n",
    "        order = positive_value_counts.sort_values(\"count\")[col]\n",
    "    else:\n",
    "        order = positive_value_counts[col]\n",
    "\n",
    "    sns.barplot(\n",
    "        data=total_value_counts,\n",
    "        y=col,\n",
    "        x=\"count\",\n",
    "        ax=ax,\n",
    "        color=\"gray\",\n",
    "        order=order,\n",
    "    )\n",
    "    sns.barplot(\n",
    "        data=positive_value_counts, y=col, x=\"count\", ax=ax, order=order\n",
    "    )\n",
    "axes.send(\"collapse\")\n",
    "\n",
    "fig.set_figwidth(20)\n",
    "plt.tight_layout()\n",
    "plt.show()"
   ]
  },
  {
   "cell_type": "code",
   "execution_count": null,
   "id": "37",
   "metadata": {},
   "outputs": [],
   "source": []
  }
 ],
 "metadata": {
  "colab": {
   "provenance": []
  },
  "kernelspec": {
   "display_name": "Python 3 (ipykernel)",
   "language": "python",
   "name": "python3"
  },
  "language_info": {
   "codemirror_mode": {
    "name": "ipython",
    "version": 3
   },
   "file_extension": ".py",
   "mimetype": "text/x-python",
   "name": "python",
   "nbconvert_exporter": "python",
   "pygments_lexer": "ipython3",
   "version": "3.9.13"
  }
 },
 "nbformat": 4,
 "nbformat_minor": 5
}
